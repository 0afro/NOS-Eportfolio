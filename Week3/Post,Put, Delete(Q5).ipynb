{
 "cells": [
  {
   "cell_type": "code",
   "execution_count": 2,
   "metadata": {},
   "outputs": [
    {
     "name": "stdout",
     "output_type": "stream",
     "text": [
      "Status Code: 201\n",
      "Response Body: {'title': 'Sample Post', 'body': 'This is an example post body.', 'userId': 1, 'id': 101}\n"
     ]
    }
   ],
   "source": [
    "import requests\n",
    "url = 'https://jsonplaceholder.typicode.com/posts'\n",
    "data = {\n",
    "\"title\": \"Sample Post\",\n",
    "\"body\": \"This is an example post body.\",\n",
    "\"userId\": 1\n",
    "}\n",
    "response = requests.post(url, json=data)\n",
    "print(f\"Status Code: {response.status_code}\")\n",
    "print(\"Response Body:\", response.json())\n",
    "\n",
    "# import requests\n",
    "# url = 'https://jsonplaceholder.typicode.com/posts/1'\n",
    "# updated_data = {\n",
    "# \"id\": 1,\n",
    "# \"title\": \"Updated Title\",\n",
    "# \"body\": \"This post content has been updated.\",\n",
    "# \"userId\": 1\n",
    "# }\n",
    "# response = requests.put(url, json=updated_data)\n",
    "# print(f\"Status Code: {response.status_code}\")\n",
    "# print(\"Updated Resource:\", response.json())\n",
    "\n",
    "# import requests\n",
    "# url = 'https://jsonplaceholder.typicode.com/posts/1'\n",
    "# response = requests.delete(url)\n",
    "# print(f\"Status Code: {response.status_code}\")\n",
    "# if response.status_code == 200:\n",
    "# print(\"Resource successfully deleted.\")\n"
   ]
  }
 ],
 "metadata": {
  "kernelspec": {
   "display_name": "Python 3",
   "language": "python",
   "name": "python3"
  },
  "language_info": {
   "codemirror_mode": {
    "name": "ipython",
    "version": 3
   },
   "file_extension": ".py",
   "mimetype": "text/x-python",
   "name": "python",
   "nbconvert_exporter": "python",
   "pygments_lexer": "ipython3",
   "version": "3.12.6"
  }
 },
 "nbformat": 4,
 "nbformat_minor": 2
}
