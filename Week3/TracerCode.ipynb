{
 "cells": [
  {
   "cell_type": "code",
   "execution_count": null,
   "metadata": {},
   "outputs": [
    {
     "name": "stdout",
     "output_type": "stream",
     "text": [
      "\n",
      "Tracing route to github.com [20.26.156.215]\n",
      "over a maximum of 30 hops:\n",
      "\n",
      "  1     1 ms     1 ms     2 ms  vodafone.broadband [192.168.1.1] \n",
      "  2     6 ms     7 ms     7 ms  84.65.64.1 \n",
      "  3     *        *        5 ms  63.130.172.39 \n",
      "  4     4 ms     4 ms     4 ms  ae69-0.ier05.lon32.ntwk.msn.net [104.44.36.205] \n",
      "  5    36 ms     8 ms     3 ms  ae25-0.icr01.lon24.ntwk.msn.net [104.44.43.187] \n",
      "  6     *        *        7 ms  be-100-0.ibr01.lon24.ntwk.msn.net [104.44.21.107] \n",
      "  7     *        *        *     Request timed out.\n",
      "  8     *        *        *     Request timed out.\n",
      "  9     *        *        *     Request timed out.\n",
      " 10     *        *        *     Request timed out.\n",
      " 11     *        *        *     Request timed out.\n",
      " 12     *        *        *     Request timed out.\n",
      " 13     6 ms     5 ms     5 ms  20.26.156.215 \n",
      "\n",
      "Trace complete.\n",
      "\n"
     ]
    }
   ],
   "source": [
    "\n",
    "import subprocess\n",
    "def tracert(domain):\n",
    "    try:\n",
    "        result = subprocess.run([\"tracert\", domain], capture_output=True, text=True)\n",
    "        print(result.stdout)\n",
    "    except FileNotFoundError:\n",
    "        print(\"tracert command not found. Make sure it's available.\")\n",
    "    except Exception as e: # Catching general exceptions for now\n",
    "        print(f\"An error occurred: {e}\")\n",
    "\n",
    "domain = input(\"Enter the website or IP address: \")\n",
    "tracert(domain)\n"
   ]
  }
 ],
 "metadata": {
  "kernelspec": {
   "display_name": "Python 3",
   "language": "python",
   "name": "python3"
  },
  "language_info": {
   "codemirror_mode": {
    "name": "ipython",
    "version": 3
   },
   "file_extension": ".py",
   "mimetype": "text/x-python",
   "name": "python",
   "nbconvert_exporter": "python",
   "pygments_lexer": "ipython3",
   "version": "3.12.6"
  }
 },
 "nbformat": 4,
 "nbformat_minor": 2
}
