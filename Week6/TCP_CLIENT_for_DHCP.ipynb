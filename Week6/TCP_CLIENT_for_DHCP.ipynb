{
 "cells": [
  {
   "cell_type": "code",
   "execution_count": 1,
   "metadata": {},
   "outputs": [
    {
     "name": "stdout",
     "output_type": "stream",
     "text": [
      "Sending: DISCOVER\n",
      "Received: OFFER 192.168.1.100\n",
      "Sending: REQUEST 192.168.1.100\n",
      "Received: ACK 192.168.1.100\n"
     ]
    }
   ],
   "source": [
    "import socket\n",
    "\n",
    "# Client configuration\n",
    "client_mac = \"AA:BB:CC:DD:EE:FF\"\n",
    "\n",
    "# Create a TCP socket\n",
    "client_socket = socket.socket(socket.AF_INET, socket.SOCK_STREAM)\n",
    "client_socket.connect(('localhost', 65432))\n",
    "\n",
    "# Step 1: Send DHCP DISCOVER\n",
    "discover_message = \"DISCOVER\"\n",
    "print(f\"Sending: {discover_message}\")\n",
    "client_socket.sendall(discover_message.encode())\n",
    "\n",
    "# Step 2: Receive DHCP OFFER\n",
    "offer_message = client_socket.recv(1024).decode()\n",
    "print(f\"Received: {offer_message}\")\n",
    "\n",
    "# Step 3: Send DHCP REQUEST\n",
    "if offer_message.startswith(\"OFFER\"):\n",
    "    offered_ip = offer_message.split()[1]\n",
    "    request_message = f\"REQUEST {offered_ip}\"\n",
    "    print(f\"Sending: {request_message}\")\n",
    "    client_socket.sendall(request_message.encode())\n",
    "\n",
    "# Step 4: Receive DHCP ACK\n",
    "ack_message = client_socket.recv(1024).decode()\n",
    "print(f\"Received: {ack_message}\")\n",
    "\n",
    "# Close connection\n",
    "client_socket.close()\n"
   ]
  }
 ],
 "metadata": {
  "kernelspec": {
   "display_name": "Python 3",
   "language": "python",
   "name": "python3"
  },
  "language_info": {
   "codemirror_mode": {
    "name": "ipython",
    "version": 3
   },
   "file_extension": ".py",
   "mimetype": "text/x-python",
   "name": "python",
   "nbconvert_exporter": "python",
   "pygments_lexer": "ipython3",
   "version": "3.12.6"
  }
 },
 "nbformat": 4,
 "nbformat_minor": 2
}
