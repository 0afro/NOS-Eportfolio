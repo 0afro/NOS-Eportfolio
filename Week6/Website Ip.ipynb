{
 "cells": [
  {
   "cell_type": "code",
   "execution_count": 1,
   "metadata": {},
   "outputs": [
    {
     "name": "stdout",
     "output_type": "stream",
     "text": [
      "gold.ac.uk IP Address: 159.100.136.66\n"
     ]
    }
   ],
   "source": [
    "import socket\n",
    "\n",
    "website = \"gold.ac.uk\"  \n",
    "IPAddr = socket.gethostbyname(website)\n",
    "\n",
    "print(f\"{website} IP Address:\", IPAddr)\n"
   ]
  }
 ],
 "metadata": {
  "kernelspec": {
   "display_name": "Python 3",
   "language": "python",
   "name": "python3"
  },
  "language_info": {
   "codemirror_mode": {
    "name": "ipython",
    "version": 3
   },
   "file_extension": ".py",
   "mimetype": "text/x-python",
   "name": "python",
   "nbconvert_exporter": "python",
   "pygments_lexer": "ipython3",
   "version": "3.12.6"
  }
 },
 "nbformat": 4,
 "nbformat_minor": 2
}
