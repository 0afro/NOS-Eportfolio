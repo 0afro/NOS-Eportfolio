{
 "cells": [
  {
   "cell_type": "code",
   "execution_count": null,
   "metadata": {},
   "outputs": [],
   "source": [
    "import socket\n",
    "import ipaddress\n",
    "\n",
    "hostname = socket.gethostname()\n",
    "IPAddr = socket.gethostbyname(hostname)\n",
    "\n",
    "print(\"Your Computer Name is:\" + hostname)\n",
    "print(\"Your Computer IP Address is:\" + IPAddr)\n",
    "\n"
   ]
  },
  {
   "cell_type": "code",
   "execution_count": null,
   "metadata": {},
   "outputs": [
    {
     "ename": "SyntaxError",
     "evalue": "invalid syntax (743726648.py, line 38)",
     "output_type": "error",
     "traceback": [
      "\u001b[1;36m  Cell \u001b[1;32mIn[7], line 38\u001b[1;36m\u001b[0m\n\u001b[1;33m    calculate_subnets('172.16.0.0/16', requirements) calculate_subnets(network, requirements):\u001b[0m\n\u001b[1;37m                                                     ^\u001b[0m\n\u001b[1;31mSyntaxError\u001b[0m\u001b[1;31m:\u001b[0m invalid syntax\n"
     ]
    }
   ],
   "source": [
    "\n",
    "def calculate_subnets(network, requirements):\n",
    "    subnets = []\n",
    "    current_subnet = ipaddress.ip_network(network)\n",
    "    \n",
    "    for dept, hosts in requirements.items():\n",
    "        # Calculate the required subnet size\n",
    "        subnet_size = 2 ** (hosts - 1).bit_length()\n",
    "        subnet = list(current_subnet.subnets(new_prefix=(32 - (subnet_size - 1).bit_length())))[0]\n",
    "        subnets.append((dept, subnet))\n",
    "        \n",
    "        # Update the current subnet to the next available subnet\n",
    "        current_subnet = list(current_subnet.subnets(new_prefix=(32 - (subnet_size - 1).bit_length())))[1]\n",
    "    \n",
    "    return subnets\n",
    "\n",
    "# Define the network and requirements\n",
    "network = '172.16.0.0/16'\n",
    "requirements = {\n",
    "     'Engineering': 30,\n",
    "     'Marketing': 15,\n",
    "     'Finance': 10,\n",
    "     'HR': 5\n",
    "     }\n",
    "\n",
    "# Calculate the subnets\n",
    "subnets = calculate_subnets(network, requirements)\n",
    "\n",
    "# Print the subnets\n",
    "for dept, subnet in subnets:\n",
    "    print(f\"{dept} subnet: {subnet}\")\n",
    "\n",
    "# Example usage\n",
    "calculate_subnets('172.16.0.0/16', requirements)"
   ]
  }
 ],
 "metadata": {
  "kernelspec": {
   "display_name": "Python 3",
   "language": "python",
   "name": "python3"
  },
  "language_info": {
   "codemirror_mode": {
    "name": "ipython",
    "version": 3
   },
   "file_extension": ".py",
   "mimetype": "text/x-python",
   "name": "python",
   "nbconvert_exporter": "python",
   "pygments_lexer": "ipython3",
   "version": "3.12.6"
  }
 },
 "nbformat": 4,
 "nbformat_minor": 2
}
