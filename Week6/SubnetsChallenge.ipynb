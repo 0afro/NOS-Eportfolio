{
 "cells": [
  {
   "cell_type": "code",
   "execution_count": null,
   "metadata": {},
   "outputs": [],
   "source": [
    "import ipaddress\n",
    "\n",
    "# Define subnets\n",
    "subnets = {\n",
    "    \"Engineering\": \"172.16.0.0/27\",\n",
    "    \"Marketing\": \"172.16.0.32/28\",\n",
    "    \"Finance\": \"172.16.0.48/28\",\n",
    "    \"HR\": \"172.16.0.64/29\"\n",
    "}\n",
    "\n",
    "# Analyze each subnet\n",
    "for dept, subnet in subnets.items():\n",
    "    net = ipaddress.ip_network(subnet, strict=False)\n",
    "    \n",
    "    print(f\"\\n{dept} Subnet:\")\n",
    "    print(f\"Network Address: {net.network_address}\")\n",
    "    print(f\"Broadcast Address: {net.broadcast_address}\")\n",
    "    print(f\"Subnet Mask: {net.netmask}\")\n",
    "    print(f\"Usable Hosts: {len(list(net.hosts()))}\")\n",
    "    print(f\"First Host: {list(net.hosts())[0]}\")\n",
    "    print(f\"Last Host: {list(net.hosts())[-1]}\")\n"
   ]
  }
 ],
 "metadata": {
  "language_info": {
   "name": "python"
  }
 },
 "nbformat": 4,
 "nbformat_minor": 2
}
