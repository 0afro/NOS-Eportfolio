{
 "cells": [
  {
   "cell_type": "code",
   "execution_count": null,
   "metadata": {},
   "outputs": [],
   "source": [
    "import socket\n",
    "\n",
    "# Server configuration\n",
    "ip_pool = [\"192.168.1.100\", \"192.168.1.101\", \"192.168.1.102\"]\n",
    "leases = {}\n",
    "\n",
    "# Create a TCP socket\n",
    "server_socket = socket.socket(socket.AF_INET, socket.SOCK_STREAM)\n",
    "server_socket.bind(('localhost', 65432))\n",
    "server_socket.listen(1)  # Allow 1 pending connection\n",
    "\n",
    "print(\"TCP Server is listening...\")\n",
    "\n",
    "while True:\n",
    "    client_socket, client_address = server_socket.accept()\n",
    "    print(f\"Connected to {client_address}\")\n",
    "    \n",
    "    # Step 1: Receive DHCP DISCOVER\n",
    "    discover_message = client_socket.recv(1024).decode()\n",
    "    print(f\"Received: {discover_message}\")\n",
    "    \n",
    "    if discover_message == \"DISCOVER\":\n",
    "        # Step 2: Send DHCP OFFER\n",
    "        if ip_pool:\n",
    "            offered_ip = ip_pool.pop(0)\n",
    "            offer_message = f\"OFFER {offered_ip}\"\n",
    "            print(f\"Sending: {offer_message}\")\n",
    "            client_socket.sendall(offer_message.encode())\n",
    "        \n",
    "        # Step 3: Receive DHCP REQUEST\n",
    "        request_message = client_socket.recv(1024).decode()\n",
    "        print(f\"Received: {request_message}\")\n",
    "        \n",
    "        if request_message.startswith(\"REQUEST\"):\n",
    "            assigned_ip = request_message.split()[1]\n",
    "            leases[client_address] = assigned_ip\n",
    "            \n",
    "            # Step 4: Send DHCP ACK\n",
    "            ack_message = f\"ACK {assigned_ip}\"\n",
    "            print(f\"Sending: {ack_message}\")\n",
    "            client_socket.sendall(ack_message.encode())\n",
    "\n",
    "    client_socket.close()\n"
   ]
  }
 ],
 "metadata": {
  "language_info": {
   "name": "python"
  }
 },
 "nbformat": 4,
 "nbformat_minor": 2
}
