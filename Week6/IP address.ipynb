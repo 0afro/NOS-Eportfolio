{
 "cells": [
  {
   "cell_type": "code",
   "execution_count": null,
   "metadata": {},
   "outputs": [],
   "source": [
    "import ipaddress\n",
    "\n",
    "def analyse_ip(ip_str):\n",
    "    ip = ipaddress.ip_interface(ip_str)\n",
    "    \n",
    "    print(f\"Address: {ip.ip}\")\n",
    "    print(f\"Network: {ip.network}\")\n",
    "    print(f\"Netmask: {ip.netmask}\")\n",
    "    print(f\"Broadcast Address: {ip.network.broadcast_address}\")\n",
    "    print(f\"First Usable Host: {list(ip.network.hosts())[0]}\")\n",
    "    print(f\"Last Usable Host: {list(ip.network.hosts())[-1]}\")\n",
    "    print(f\"Number of Usable Hosts: {ip.network.num_addresses - 2}\")  # Excluding network & broadcast\n",
    "    print(f\"Is Private: {ip.ip.is_private}\")\n",
    "    print(f\"Is Global: {ip.ip.is_global}\")\n",
    "\n",
    "# Example usage\n",
    "analyse_ip('192.168.1.1/24')\n"
   ]
  }
 ],
 "metadata": {
  "language_info": {
   "name": "python"
  }
 },
 "nbformat": 4,
 "nbformat_minor": 2
}
