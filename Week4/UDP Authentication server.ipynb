{
 "cells": [
  {
   "cell_type": "code",
   "execution_count": null,
   "metadata": {},
   "outputs": [],
   "source": [
    "import socket\n",
    "\n",
    "# Create UDP server socket\n",
    "server_socket = socket.socket(socket.AF_INET, socket.SOCK_DGRAM)\n",
    "server_socket.bind(('localhost', 65433))\n",
    "\n",
    "# Dictionary of valid users (username -> password)\n",
    "users = {\"user1\": \"pass1\", \"user2\": \"pass2\", \"admin\": \"admin123\"}\n",
    "\n",
    "# Dictionary to store authenticated clients\n",
    "authenticated_clients = {}\n",
    "\n",
    "print(\"UDP Chat Server with Authentication is running...\")\n",
    "\n",
    "while True:\n",
    "    data, client_address = server_socket.recvfrom(2048)\n",
    "    message = data.decode()\n",
    "\n",
    "    # If client is not authenticated, expect username and password\n",
    "    if client_address not in authenticated_clients:\n",
    "        try:\n",
    "            username, password = message.split(\",\")  # Expect \"username,password\"\n",
    "        except ValueError:\n",
    "            server_socket.sendto(b\"Invalid login format. Use: username,password\", client_address)\n",
    "            continue\n",
    "\n",
    "        if username in users and users[username] == password:\n",
    "            authenticated_clients[client_address] = username\n",
    "            server_socket.sendto(b\"Login successful. You can now chat.\", client_address)\n",
    "            print(f\"{username} authenticated from {client_address}\")\n",
    "        else:\n",
    "            server_socket.sendto(b\"Invalid credentials. Try again.\", client_address)\n",
    "        continue\n",
    "\n",
    "    # Process chat messages after authentication\n",
    "    print(f\"{authenticated_clients[client_address]} ({client_address}): {message}\")\n",
    "\n",
    "    # Broadcast message to other authenticated clients\n",
    "    for client in authenticated_clients:\n",
    "        if client != client_address:\n",
    "            server_socket.sendto(f\"{authenticated_clients[client_address]}: {message}\".encode(), client)\n"
   ]
  }
 ],
 "metadata": {
  "language_info": {
   "name": "python"
  }
 },
 "nbformat": 4,
 "nbformat_minor": 2
}
