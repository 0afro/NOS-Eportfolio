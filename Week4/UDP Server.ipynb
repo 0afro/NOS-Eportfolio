{
 "cells": [
  {
   "cell_type": "code",
   "execution_count": null,
   "metadata": {},
   "outputs": [],
   "source": [
    "import socket\n",
    "\n",
    "# Set up the server\n",
    "server_socket = socket.socket(socket.AF_INET, socket.SOCK_DGRAM)\n",
    "server_socket.bind(('localhost', 65433))\n",
    "\n",
    "clients = set()\n",
    "\n",
    "print(\"UDP Chat Server is running...\")\n",
    "\n",
    "while True:\n",
    "    data, client_address = server_socket.recvfrom(2048)\n",
    "    message = data.decode()\n",
    "\n",
    "    if message == \"exit\":\n",
    "        print(f\"{client_address} has left the chat.\")\n",
    "        clients.discard(client_address)\n",
    "        continue\n",
    "\n",
    "    if client_address not in clients:\n",
    "        clients.add(client_address)\n",
    "        print(f\"New client joined: {client_address}\")\n",
    "\n",
    "    print(f\"{client_address}: {message}\")\n",
    "\n",
    "    # Broadcast message to all clients except sender\n",
    "    for client in clients:\n",
    "        if client != client_address:\n",
    "            server_socket.sendto(data, client)\n"
   ]
  }
 ],
 "metadata": {
  "kernelspec": {
   "display_name": "Python 3",
   "language": "python",
   "name": "python3"
  },
  "language_info": {
   "codemirror_mode": {
    "name": "ipython",
    "version": 3
   },
   "file_extension": ".py",
   "mimetype": "text/x-python",
   "name": "python",
   "nbconvert_exporter": "python",
   "pygments_lexer": "ipython3",
   "version": "3.12.6"
  }
 },
 "nbformat": 4,
 "nbformat_minor": 2
}
