{
 "cells": [
  {
   "cell_type": "code",
   "execution_count": null,
   "metadata": {},
   "outputs": [
    {
     "ename": "NameError",
     "evalue": "name 'server_socket' is not defined",
     "output_type": "error",
     "traceback": [
      "\u001b[1;31m---------------------------------------------------------------------------\u001b[0m",
      "\u001b[1;31mNameError\u001b[0m                                 Traceback (most recent call last)",
      "Cell \u001b[1;32mIn[1], line 4\u001b[0m\n\u001b[0;32m      1\u001b[0m clients \u001b[38;5;241m=\u001b[39m {}  \u001b[38;5;66;03m# Dictionary to store {address: name}\u001b[39;00m\n\u001b[0;32m      3\u001b[0m \u001b[38;5;28;01mwhile\u001b[39;00m \u001b[38;5;28;01mTrue\u001b[39;00m:\n\u001b[1;32m----> 4\u001b[0m     data, client_address \u001b[38;5;241m=\u001b[39m \u001b[43mserver_socket\u001b[49m\u001b[38;5;241m.\u001b[39mrecvfrom(\u001b[38;5;241m2048\u001b[39m)\n\u001b[0;32m      5\u001b[0m     message \u001b[38;5;241m=\u001b[39m data\u001b[38;5;241m.\u001b[39mdecode()\n\u001b[0;32m      7\u001b[0m     \u001b[38;5;28;01mif\u001b[39;00m client_address \u001b[38;5;129;01mnot\u001b[39;00m \u001b[38;5;129;01min\u001b[39;00m clients:\n",
      "\u001b[1;31mNameError\u001b[0m: name 'server_socket' is not defined"
     ]
    }
   ],
   "source": [
    "import socket\n",
    "\n",
    "# Create UDP server socket\n",
    "server_socket = socket.socket(socket.AF_INET, socket.SOCK_DGRAM)\n",
    "server_socket.bind(('localhost', 65433))\n",
    "\n",
    "# Dictionary to store connected clients (IP address as key, username as value)\n",
    "clients = {}\n",
    "\n",
    "print(\"UDP Chat Server is running...\")\n",
    "\n",
    "while True:\n",
    "    data, client_address = server_socket.recvfrom(2048)\n",
    "    message = data.decode()\n",
    "\n",
    "    # If client is new, store their IP and assign a default name\n",
    "    if client_address not in clients:\n",
    "        clients[client_address] = f\"User{len(clients) + 1}\"\n",
    "        print(f\"New client connected: {clients[client_address]} ({client_address})\")\n",
    "\n",
    "    # Display received message\n",
    "    print(f\"{clients[client_address]} ({client_address}): {message}\")\n",
    "\n",
    "    # Broadcast message to all other clients\n",
    "    for client in clients:\n",
    "        if client != client_address:\n",
    "            server_socket.sendto(f\"{clients[client_address]}: {message}\".encode(), client)\n"
   ]
  }
 ],
 "metadata": {
  "kernelspec": {
   "display_name": "Python 3",
   "language": "python",
   "name": "python3"
  },
  "language_info": {
   "codemirror_mode": {
    "name": "ipython",
    "version": 3
   },
   "file_extension": ".py",
   "mimetype": "text/x-python",
   "name": "python",
   "nbconvert_exporter": "python",
   "pygments_lexer": "ipython3",
   "version": "3.12.6"
  }
 },
 "nbformat": 4,
 "nbformat_minor": 2
}
