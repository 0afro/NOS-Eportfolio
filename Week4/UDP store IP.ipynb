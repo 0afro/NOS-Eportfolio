{
 "cells": [
  {
   "cell_type": "code",
   "execution_count": null,
   "metadata": {},
   "outputs": [
    {
     "name": "stdout",
     "output_type": "stream",
     "text": [
      "UDP Chat Server is running...\n",
      "New client connected: User1 (('127.0.0.1', 60802))\n",
      "User1 (('127.0.0.1', 60802)): aa: aaaaaaa\n",
      "User1 (('127.0.0.1', 60802)): aa: yabdabadooo\n",
      "User1 (('127.0.0.1', 60802)): exit\n"
     ]
    }
   ],
   "source": [
    "import socket\n",
    "\n",
    "# Create UDP server socket\n",
    "server_socket = socket.socket(socket.AF_INET, socket.SOCK_DGRAM)\n",
    "server_socket.bind(('localhost', 65433))\n",
    "\n",
    "# Dictionary to store connected clients (IP address as key, username as value)\n",
    "clients = {}\n",
    "\n",
    "print(\"UDP Chat Server is running...\")\n",
    "\n",
    "while True:\n",
    "    data, client_address = server_socket.recvfrom(2048)\n",
    "    message = data.decode()\n",
    "\n",
    "    # If client is new, store their IP and assign a default name\n",
    "    if client_address not in clients:\n",
    "        clients[client_address] = f\"User{len(clients) + 1}\"\n",
    "        print(f\"New client connected: {clients[client_address]} ({client_address})\")\n",
    "\n",
    "    # Display received message\n",
    "    print(f\"{clients[client_address]} ({client_address}): {message}\")\n",
    "\n",
    "    # Broadcast message to all other clients\n",
    "    for client in clients:\n",
    "        if client != client_address:\n",
    "            server_socket.sendto(f\"{clients[client_address]}: {message}\".encode(), client)\n"
   ]
  }
 ],
 "metadata": {
  "kernelspec": {
   "display_name": "Python 3",
   "language": "python",
   "name": "python3"
  },
  "language_info": {
   "codemirror_mode": {
    "name": "ipython",
    "version": 3
   },
   "file_extension": ".py",
   "mimetype": "text/x-python",
   "name": "python",
   "nbconvert_exporter": "python",
   "pygments_lexer": "ipython3",
   "version": "3.12.6"
  }
 },
 "nbformat": 4,
 "nbformat_minor": 2
}
