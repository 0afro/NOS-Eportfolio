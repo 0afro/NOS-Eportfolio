{
 "cells": [
  {
   "cell_type": "code",
   "execution_count": 1,
   "metadata": {},
   "outputs": [
    {
     "name": "stdout",
     "output_type": "stream",
     "text": [
      "Login successful. You can now chat.\n",
      "Type 'exit' to leave the chat.\n"
     ]
    }
   ],
   "source": [
    "import socket\n",
    "\n",
    "# Caesar Cipher Encryption Function\n",
    "def caesar_encrypt(plaintext, shift=3):\n",
    "    encrypted_text = \"\"\n",
    "    for char in plaintext:\n",
    "        if char.isalpha():\n",
    "            shift_base = ord('A') if char.isupper() else ord('a')\n",
    "            encrypted_text += chr((ord(char) - shift_base + shift) % 26 + shift_base)\n",
    "        else:\n",
    "            encrypted_text += char  # Keep non-alphabet characters unchanged\n",
    "    return encrypted_text\n",
    "\n",
    "client_socket = socket.socket(socket.AF_INET, socket.SOCK_DGRAM)\n",
    "server_address = ('localhost', 65433)\n",
    "\n",
    "# User login\n",
    "username = input(\"Username: \")\n",
    "password = input(\"Password: \")\n",
    "login_credentials = f\"{username},{password}\"\n",
    "\n",
    "# Send login request\n",
    "client_socket.sendto(login_credentials.encode(), server_address)\n",
    "\n",
    "# Receive server response\n",
    "response, _ = client_socket.recvfrom(2048)\n",
    "response_message = response.decode()\n",
    "print(response_message)\n",
    "\n",
    "# Exit if authentication fails\n",
    "if response_message != \"Login successful. You can now chat.\":\n",
    "    exit()\n",
    "\n",
    "# Chat functionality after successful login\n",
    "print(\"Type 'exit' to leave the chat.\")\n",
    "while True:\n",
    "    message = input(\"You: \")\n",
    "    if message.lower() == \"exit\":\n",
    "        break\n",
    "\n",
    "    # Encrypt message before sending\n",
    "    encrypted_message = caesar_encrypt(message)\n",
    "    client_socket.sendto(encrypted_message.encode(), server_address)\n",
    "\n",
    "client_socket.close()\n"
   ]
  }
 ],
 "metadata": {
  "kernelspec": {
   "display_name": "Python 3",
   "language": "python",
   "name": "python3"
  },
  "language_info": {
   "codemirror_mode": {
    "name": "ipython",
    "version": 3
   },
   "file_extension": ".py",
   "mimetype": "text/x-python",
   "name": "python",
   "nbconvert_exporter": "python",
   "pygments_lexer": "ipython3",
   "version": "3.12.6"
  }
 },
 "nbformat": 4,
 "nbformat_minor": 2
}
