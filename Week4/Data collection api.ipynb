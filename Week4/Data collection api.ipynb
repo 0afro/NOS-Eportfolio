{
 "cells": [
  {
   "cell_type": "code",
   "execution_count": null,
   "metadata": {},
   "outputs": [],
   "source": [
    "import socket\n",
    "import requests\n",
    "\n",
    "# API URLs for two locations\n",
    "university_coords = (51.47, -0.0363)  #University\n",
    "library_coords = (51.5299, -0.1278)  #British Library\n",
    "\n",
    "def fetch_temperature(latitude, longitude):\n",
    "    \"\"\"Fetch temperature data from the weather API\"\"\"\n",
    "    api_url = f\"https://api.open-meteo.com/v1/forecast?latitude={latitude}&longitude={longitude}&current_weather=true\"\n",
    "    response = requests.get(api_url)\n",
    "    \n",
    "    if response.status_code == 200:\n",
    "        weather_data = response.json()\n",
    "        return weather_data[\"current_weather\"][\"temperature\"]\n",
    "    else:\n",
    "        return None\n",
    "\n",
    "# Get temperatures\n",
    "university_temp = fetch_temperature(*university_coords)\n",
    "library_temp = fetch_temperature(*library_coords)\n",
    "\n",
    "if university_temp is not None and library_temp is not None:\n",
    "    # Compare temperatures\n",
    "    if university_temp > library_temp:\n",
    "        message = f\"University is warmer ({university_temp}°C) than British Library ({library_temp}°C).\"\n",
    "    elif university_temp < library_temp:\n",
    "        message = f\"British Library is warmer ({library_temp}°C) than University ({university_temp}°C).\"\n",
    "    else:\n",
    "        message = f\"Both locations have the same temperature: {university_temp}°C.\"\n",
    "else:\n",
    "    message = \"Failed to fetch weather data.\"\n",
    "\n",
    "# Send the comparison result to the UDP server\n",
    "client_socket = socket.socket(socket.AF_INET, socket.SOCK_DGRAM)\n",
    "server_address = ('localhost', 65433)\n",
    "client_socket.sendto(message.encode(), server_address)\n",
    "print(\"Weather comparison sent!\")\n",
    "client_socket.close()\n"
   ]
  }
 ],
 "metadata": {
  "language_info": {
   "name": "python"
  }
 },
 "nbformat": 4,
 "nbformat_minor": 2
}
