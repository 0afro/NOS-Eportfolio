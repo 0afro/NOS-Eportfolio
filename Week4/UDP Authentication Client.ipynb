{
 "cells": [
  {
   "cell_type": "code",
   "execution_count": null,
   "metadata": {},
   "outputs": [],
   "source": [
    "import socket\n",
    "\n",
    "client_socket = socket.socket(socket.AF_INET, socket.SOCK_DGRAM)\n",
    "server_address = ('localhost', 65433)\n",
    "\n",
    "# Prompt user for login details\n",
    "username = input(\"Username: \")\n",
    "password = input(\"Password: \")\n",
    "login_credentials = f\"{username},{password}\"\n",
    "\n",
    "# Send login request\n",
    "client_socket.sendto(login_credentials.encode(), server_address)\n",
    "\n",
    "# Receive server response\n",
    "response, _ = client_socket.recvfrom(2048)\n",
    "response_message = response.decode()\n",
    "print(response_message)\n",
    "\n",
    "# Exit if authentication fails\n",
    "if response_message != \"Login successful. You can now chat.\":\n",
    "    exit()\n",
    "\n",
    "# Chat functionality after successful login\n",
    "print(\"Type 'exit' to leave the chat.\")\n",
    "while True:\n",
    "    message = input(\"You: \")\n",
    "    if message.lower() == \"exit\":\n",
    "        break\n",
    "    client_socket.sendto(message.encode(), server_address)\n",
    "\n",
    "client_socket.close()\n"
   ]
  }
 ],
 "metadata": {
  "language_info": {
   "name": "python"
  }
 },
 "nbformat": 4,
 "nbformat_minor": 2
}
