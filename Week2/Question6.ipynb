{
 "cells": [
  {
   "cell_type": "code",
   "execution_count": 3,
   "metadata": {},
   "outputs": [
    {
     "name": "stdout",
     "output_type": "stream",
     "text": [
      "Password must contain at least 8 characters long, at least one uppercase letter, at least one special character.\n"
     ]
    }
   ],
   "source": [
    "# Exercise 6: Password Strength Checker\n",
    "def check_password_strength(password):\n",
    "    errors = []\n",
    "    special_chars = \"@#$%^&*()-_=+[]{}|;:'\\\",.<>?/\"\n",
    "    \n",
    "    if len(password) < 8:\n",
    "        errors.append(\"at least 8 characters long\")\n",
    "    if not any(char.isupper() for char in password):\n",
    "        errors.append(\"at least one uppercase letter\")\n",
    "    if not any(char.islower() for char in password):\n",
    "        errors.append(\"at least one lowercase letter\")\n",
    "    if not any(char in special_chars for char in password):\n",
    "        errors.append(\"at least one special character\")\n",
    "    \n",
    "    if errors:\n",
    "        print(\"Password must contain \" + \", \".join(errors) + \".\")\n",
    "    else:\n",
    "        print(\"Password is strong\")\n",
    "\n",
    "# Example usage\n",
    "password = input(\"Enter a password: \")\n",
    "check_password_strength(password)\n"
   ]
  }
 ],
 "metadata": {
  "kernelspec": {
   "display_name": "Python 3",
   "language": "python",
   "name": "python3"
  },
  "language_info": {
   "codemirror_mode": {
    "name": "ipython",
    "version": 3
   },
   "file_extension": ".py",
   "mimetype": "text/x-python",
   "name": "python",
   "nbconvert_exporter": "python",
   "pygments_lexer": "ipython3",
   "version": "3.12.6"
  }
 },
 "nbformat": 4,
 "nbformat_minor": 2
}
