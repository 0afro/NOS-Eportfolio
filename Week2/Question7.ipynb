{
 "cells": [
  {
   "cell_type": "code",
   "execution_count": null,
   "metadata": {},
   "outputs": [
    {
     "name": "stdout",
     "output_type": "stream",
     "text": [
      "Result: DuvhqdoIF\n"
     ]
    }
   ],
   "source": [
    "# Exercise 7: Caesar Cipher\n",
    "def caesar_cipher(message, key, mode=\"encrypt\"):\n",
    "    result = \"\"\n",
    "    for char in message:\n",
    "        if char.isalpha():\n",
    "            shift = key if mode == \"encrypt\" else -key\n",
    "            new_char = chr(((ord(char.upper()) - 65 + shift) % 26) + 65)\n",
    "            result += new_char if char.isupper() else new_char.lower()\n",
    "        else:\n",
    "            result += char\n",
    "    return result\n",
    "\n",
    "# Example usage\n",
    "message = input(\"Enter a message: \")\n",
    "key = int(input(\"Enter a shift key: \"))\n",
    "mode = input(\"Enter mode (encrypt/decrypt): \").strip().lower()\n",
    "\n",
    "output = caesar_cipher(message, key, mode)\n",
    "print(\"Result:\", output)\n",
    "\n",
    "#i used ArsenalFC with key 3 and it gave me DuhvqoIzF"
   ]
  }
 ],
 "metadata": {
  "kernelspec": {
   "display_name": "Python 3",
   "language": "python",
   "name": "python3"
  },
  "language_info": {
   "codemirror_mode": {
    "name": "ipython",
    "version": 3
   },
   "file_extension": ".py",
   "mimetype": "text/x-python",
   "name": "python",
   "nbconvert_exporter": "python",
   "pygments_lexer": "ipython3",
   "version": "3.12.6"
  }
 },
 "nbformat": 4,
 "nbformat_minor": 2
}
