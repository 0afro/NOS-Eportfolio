{
 "cells": [
  {
   "cell_type": "code",
   "execution_count": 1,
   "metadata": {},
   "outputs": [
    {
     "name": "stdout",
     "output_type": "stream",
     "text": [
      "Welcome to Hangman!\n",
      "_ _ _ _ _ _\n",
      "_ _ _ _ a _\n",
      "Incorrect guess. 5 attempts left.\n",
      "_ _ _ _ a _\n",
      "Incorrect guess. 4 attempts left.\n",
      "_ _ _ _ a _\n",
      "Incorrect guess. 3 attempts left.\n",
      "_ _ _ _ a _\n",
      "_ _ i _ a _\n",
      "Incorrect guess. 2 attempts left.\n",
      "_ _ i _ a _\n",
      "g _ i _ a _\n",
      "g u i _ a _\n",
      "g u i t a _\n",
      "g u i t a r\n",
      "Congratulations, you guessed the word 'guitar'!\n"
     ]
    }
   ],
   "source": [
    "# Exercise 8: Hangman Game\n",
    "import random\n",
    "\n",
    "def hangman():\n",
    "    words = [\"football\",\"frisbee\",\"dinosaur\",\"elephant\",\"computer\",\"python\",\"hangman\",\"puzzle\",\"guitar\",\"keyboard\"]\n",
    "    word = random.choice(words)\n",
    "    guessed_word = [\"_\"] * len(word)\n",
    "    attempts = 6\n",
    "    guessed_letters = set()\n",
    "\n",
    "    print(\"Welcome to Hangman!\")\n",
    "    print(\" \".join(guessed_word))\n",
    "\n",
    "    while attempts > 0 and \"_\" in guessed_word:\n",
    "        guess = input(\"Guess a letter: \").lower()\n",
    "\n",
    "        if guess in guessed_letters:\n",
    "            print(\"You already guessed that letter.\")\n",
    "            continue\n",
    "\n",
    "        guessed_letters.add(guess)\n",
    "\n",
    "        if guess in word:\n",
    "            for i in range(len(word)):\n",
    "                if word[i] == guess:\n",
    "                    guessed_word[i] = guess\n",
    "        else:\n",
    "            attempts -= 1\n",
    "            print(f\"Incorrect guess. {attempts} attempts left.\")\n",
    "\n",
    "        print(\" \".join(guessed_word))\n",
    "\n",
    "    if \"_\" not in guessed_word:\n",
    "        print(f\"Congratulations, you guessed the word '{word}'!\")\n",
    "    else:\n",
    "        print(f\"Game over! The word was '{word}'.\")\n",
    "\n",
    "# Run the game\n",
    "hangman()\n"
   ]
  }
 ],
 "metadata": {
  "kernelspec": {
   "display_name": "Python 3",
   "language": "python",
   "name": "python3"
  },
  "language_info": {
   "codemirror_mode": {
    "name": "ipython",
    "version": 3
   },
   "file_extension": ".py",
   "mimetype": "text/x-python",
   "name": "python",
   "nbconvert_exporter": "python",
   "pygments_lexer": "ipython3",
   "version": "3.12.6"
  }
 },
 "nbformat": 4,
 "nbformat_minor": 2
}
