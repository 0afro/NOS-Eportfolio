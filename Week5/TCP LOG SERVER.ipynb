{
 "cells": [
  {
   "cell_type": "code",
   "execution_count": null,
   "metadata": {},
   "outputs": [],
   "source": [
    "import socket\n",
    "\n",
    "# Create a TCP socket\n",
    "server_socket = socket.socket(socket.AF_INET, socket.SOCK_STREAM)\n",
    "server_socket.bind(('localhost', 65432))\n",
    "server_socket.listen(1)  # Allow 1 pending connection\n",
    "\n",
    "print(\"TCP Server is listening...\")\n",
    "\n",
    "while True:\n",
    "    client_socket, client_address = server_socket.accept()\n",
    "    print(f\"Connected to {client_address}\")\n",
    "    \n",
    "    with open('log.txt', 'a') as log_file:  # Open file in append mode\n",
    "        while True:\n",
    "            data = client_socket.recv(1024)\n",
    "            if not data:\n",
    "                break  # Stop if no data received\n",
    "            \n",
    "            decoded_data = data.decode()\n",
    "            print(f\"Received: {decoded_data}\")\n",
    "\n",
    "            # Write to file\n",
    "            log_file.write(decoded_data + \"\\n\")\n",
    "\n",
    "            # Echo back the data\n",
    "            client_socket.sendall(b\"ACK: \" + data)\n",
    "\n",
    "    print(\"Data logged successfully!\")\n",
    "    client_socket.close()\n"
   ]
  }
 ],
 "metadata": {
  "language_info": {
   "name": "python"
  }
 },
 "nbformat": 4,
 "nbformat_minor": 2
}
