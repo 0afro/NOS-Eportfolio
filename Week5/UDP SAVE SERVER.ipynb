{
 "cells": [
  {
   "cell_type": "code",
   "execution_count": null,
   "metadata": {},
   "outputs": [
    {
     "name": "stdout",
     "output_type": "stream",
     "text": [
      "UDP Server is waiting for file transfer...\n"
     ]
    }
   ],
   "source": [
    "import socket\n",
    "\n",
    "server_socket = socket.socket(socket.AF_INET, socket.SOCK_DGRAM)\n",
    "server_socket.bind(('localhost', 65433))\n",
    "\n",
    "print(\"UDP Server is waiting for file transfer...\")\n",
    "\n",
    "with open('received_file_udp.txt', 'wb') as f:\n",
    "    while True:\n",
    "        data, client_address = server_socket.recvfrom(1024)\n",
    "        if data == b\"END\":  # Special termination message\n",
    "            break\n",
    "        f.write(data)\n",
    "\n",
    "print(\"File received and saved as 'received_file_udp.txt'!\")\n",
    "server_socket.close()\n"
   ]
  }
 ],
 "metadata": {
  "kernelspec": {
   "display_name": "Python 3",
   "language": "python",
   "name": "python3"
  },
  "language_info": {
   "codemirror_mode": {
    "name": "ipython",
    "version": 3
   },
   "file_extension": ".py",
   "mimetype": "text/x-python",
   "name": "python",
   "nbconvert_exporter": "python",
   "pygments_lexer": "ipython3",
   "version": "3.12.6"
  }
 },
 "nbformat": 4,
 "nbformat_minor": 2
}
