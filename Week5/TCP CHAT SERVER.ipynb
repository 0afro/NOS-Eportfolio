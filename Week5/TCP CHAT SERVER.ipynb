{
 "cells": [
  {
   "cell_type": "code",
   "execution_count": null,
   "metadata": {},
   "outputs": [
    {
     "name": "stdout",
     "output_type": "stream",
     "text": [
      "✅ TCP Server is listening...\n",
      "🔗 Connected to ('127.0.0.1', 56558)\n",
      "📩 Received: HEYY\n",
      "🔌 Connection closed.\n"
     ]
    }
   ],
   "source": [
    "import socket\n",
    "\n",
    "# Create a TCP socket\n",
    "server_socket = socket.socket(socket.AF_INET, socket.SOCK_STREAM)\n",
    "\n",
    "# Enable reusing the address to avoid \"Address already in use\" error\n",
    "server_socket.setsockopt(socket.SOL_SOCKET, socket.SO_REUSEADDR, 1)\n",
    "\n",
    "# Bind to localhost and port 65432\n",
    "server_socket.bind(('localhost', 65432))\n",
    "server_socket.listen(5)  # Allow multiple connections\n",
    "\n",
    "print(\"✅ TCP Server is listening...\")\n",
    "\n",
    "while True:\n",
    "    client_socket, client_address = server_socket.accept()\n",
    "    print(f\"🔗 Connected to {client_address}\")\n",
    "\n",
    "    data = client_socket.recv(1024).decode()\n",
    "    \n",
    "    if not data:\n",
    "        print(\"❌ No data received, closing connection.\")\n",
    "        client_socket.close()\n",
    "        continue\n",
    "\n",
    "    print(f\"📩 Received: {data}\")\n",
    "\n",
    "    # Echo the message back to the client\n",
    "    client_socket.sendall(f\"ACK: {data}\".encode())\n",
    "\n",
    "    client_socket.close()\n",
    "    print(\"🔌 Connection closed.\")\n"
   ]
  }
 ],
 "metadata": {
  "kernelspec": {
   "display_name": "Python 3",
   "language": "python",
   "name": "python3"
  },
  "language_info": {
   "codemirror_mode": {
    "name": "ipython",
    "version": 3
   },
   "file_extension": ".py",
   "mimetype": "text/x-python",
   "name": "python",
   "nbconvert_exporter": "python",
   "pygments_lexer": "ipython3",
   "version": "3.12.6"
  }
 },
 "nbformat": 4,
 "nbformat_minor": 2
}
