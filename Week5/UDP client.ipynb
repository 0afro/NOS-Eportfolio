{
 "cells": [
  {
   "cell_type": "code",
   "execution_count": 4,
   "metadata": {},
   "outputs": [
    {
     "name": "stdout",
     "output_type": "stream",
     "text": [
      "Duration:  0.003267 Server response: ACK: HELLO HELLO HELLO HELLO HELLO HELLO HELLO HEL...\n"
     ]
    }
   ],
   "source": [
    "import socket\n",
    "import datetime\n",
    "\n",
    "client_socket = socket.socket(socket.AF_INET, socket.SOCK_DGRAM)\n",
    "server_address = ('localhost', 65433)\n",
    "\n",
    "# Send a larger message (500 characters)\n",
    "message = (\"HELLO \" * 100).encode()  # 500 characters\n",
    "\n",
    "# Measure time before sending\n",
    "Time1 = datetime.datetime.now()\n",
    "client_socket.sendto(message, server_address)\n",
    "\n",
    "# Receive response\n",
    "data, _ = client_socket.recvfrom(1024)\n",
    "Time2 = datetime.datetime.now()\n",
    "\n",
    "# Calculate time taken\n",
    "FinalTime = (Time2 - Time1).total_seconds()\n",
    "print(\"Duration: \", FinalTime, f\"Server response: {data.decode()[:50]}...\")  # Print first 50 chars\n",
    "\n",
    "client_socket.close()\n"
   ]
  }
 ],
 "metadata": {
  "kernelspec": {
   "display_name": "Python 3",
   "language": "python",
   "name": "python3"
  },
  "language_info": {
   "codemirror_mode": {
    "name": "ipython",
    "version": 3
   },
   "file_extension": ".py",
   "mimetype": "text/x-python",
   "name": "python",
   "nbconvert_exporter": "python",
   "pygments_lexer": "ipython3",
   "version": "3.12.6"
  }
 },
 "nbformat": 4,
 "nbformat_minor": 2
}
