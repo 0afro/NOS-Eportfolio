{
 "cells": [
  {
   "cell_type": "code",
   "execution_count": null,
   "metadata": {},
   "outputs": [
    {
     "ename": "TypeError",
     "evalue": "a bytes-like object is required, not 'str'",
     "output_type": "error",
     "traceback": [
      "\u001b[1;31m---------------------------------------------------------------------------\u001b[0m",
      "\u001b[1;31mTypeError\u001b[0m                                 Traceback (most recent call last)",
      "Cell \u001b[1;32mIn[3], line 11\u001b[0m\n\u001b[0;32m      9\u001b[0m \u001b[38;5;66;03m# Measure time before sending\u001b[39;00m\n\u001b[0;32m     10\u001b[0m Time1 \u001b[38;5;241m=\u001b[39m datetime\u001b[38;5;241m.\u001b[39mdatetime\u001b[38;5;241m.\u001b[39mnow()\n\u001b[1;32m---> 11\u001b[0m \u001b[43mclient_socket\u001b[49m\u001b[38;5;241;43m.\u001b[39;49m\u001b[43msendto\u001b[49m\u001b[43m(\u001b[49m\u001b[43mmessage\u001b[49m\u001b[43m,\u001b[49m\u001b[43m \u001b[49m\u001b[43mserver_address\u001b[49m\u001b[43m)\u001b[49m\n\u001b[0;32m     13\u001b[0m \u001b[38;5;66;03m# Receive response\u001b[39;00m\n\u001b[0;32m     14\u001b[0m data, _ \u001b[38;5;241m=\u001b[39m client_socket\u001b[38;5;241m.\u001b[39mrecvfrom(\u001b[38;5;241m1024\u001b[39m)\n",
      "\u001b[1;31mTypeError\u001b[0m: a bytes-like object is required, not 'str'"
     ]
    }
   ],
   "source": [
    "import socket\n",
    "import datetime\n",
    "\n",
    "client_socket = socket.socket(socket.AF_INET, socket.SOCK_DGRAM)\n",
    "server_address = ('localhost', 65433)\n",
    "\n",
    "# Send a larger message (500 characters)\n",
    "message = (\"HELLO \" * 100).encode()  # 500 characters\n",
    "\n",
    "# Measure time before sending\n",
    "Time1 = datetime.datetime.now()\n",
    "client_socket.sendto(message, server_address)\n",
    "\n",
    "# Receive response\n",
    "data, _ = client_socket.recvfrom(1024)\n",
    "Time2 = datetime.datetime.now()\n",
    "\n",
    "# Calculate time taken\n",
    "FinalTime = (Time2 - Time1).total_seconds()\n",
    "print(\"Duration: \", FinalTime, f\"Server response: {data.decode()[:50]}...\")  # Print first 50 chars\n",
    "\n",
    "client_socket.close()\n"
   ]
  }
 ],
 "metadata": {
  "kernelspec": {
   "display_name": "Python 3",
   "language": "python",
   "name": "python3"
  },
  "language_info": {
   "codemirror_mode": {
    "name": "ipython",
    "version": 3
   },
   "file_extension": ".py",
   "mimetype": "text/x-python",
   "name": "python",
   "nbconvert_exporter": "python",
   "pygments_lexer": "ipython3",
   "version": "3.12.6"
  }
 },
 "nbformat": 4,
 "nbformat_minor": 2
}
