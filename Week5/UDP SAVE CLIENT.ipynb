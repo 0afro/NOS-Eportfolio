{
 "cells": [
  {
   "cell_type": "code",
   "execution_count": 6,
   "metadata": {},
   "outputs": [
    {
     "name": "stdout",
     "output_type": "stream",
     "text": [
      "File sent successfully over UDP in 0.038182 seconds!\n"
     ]
    }
   ],
   "source": [
    "import socket\n",
    "import datetime\n",
    "\n",
    "client_socket = socket.socket(socket.AF_INET, socket.SOCK_DGRAM)\n",
    "server_address = ('localhost', 65433)\n",
    "\n",
    "Time1 = datetime.datetime.now()  # Start time\n",
    "\n",
    "with open('log.txt', 'rb') as f:\n",
    "    while chunk := f.read(1024):  # Read file in 1024-byte chunks\n",
    "        client_socket.sendto(chunk, server_address)\n",
    "\n",
    "# Send termination signal\n",
    "client_socket.sendto(b\"END\", server_address)\n",
    "\n",
    "Time2 = datetime.datetime.now()  # End time\n",
    "FinalTime = (Time2 - Time1).total_seconds()\n",
    "\n",
    "print(f\"File sent successfully over UDP in {FinalTime} seconds!\")\n",
    "client_socket.close()\n"
   ]
  }
 ],
 "metadata": {
  "kernelspec": {
   "display_name": "Python 3",
   "language": "python",
   "name": "python3"
  },
  "language_info": {
   "codemirror_mode": {
    "name": "ipython",
    "version": 3
   },
   "file_extension": ".py",
   "mimetype": "text/x-python",
   "name": "python",
   "nbconvert_exporter": "python",
   "pygments_lexer": "ipython3",
   "version": "3.12.6"
  }
 },
 "nbformat": 4,
 "nbformat_minor": 2
}
