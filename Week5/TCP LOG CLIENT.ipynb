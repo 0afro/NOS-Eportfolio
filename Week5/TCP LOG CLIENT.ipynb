{
 "cells": [
  {
   "cell_type": "code",
   "execution_count": null,
   "metadata": {},
   "outputs": [],
   "source": [
    "import socket\n",
    "import datetime\n",
    "\n",
    "client_socket = socket.socket(socket.AF_INET, socket.SOCK_STREAM)\n",
    "client_socket.connect(('localhost', 65432))\n",
    "\n",
    "message = input(\"Enter message: \")\n",
    "client_socket.sendall(message.encode())\n",
    "Time1 = datetime.datetime.now()\n",
    "\n",
    "response = client_socket.recv(1024)\n",
    "Time2 = datetime.datetime.now()\n",
    "\n",
    "FinalTime = (Time2 - Time1).total_seconds()\n",
    "print(\"Duration: \", FinalTime, f\"Server response: {response.decode()}\")\n",
    "\n",
    "client_socket.close()\n"
   ]
  }
 ],
 "metadata": {
  "language_info": {
   "name": "python"
  }
 },
 "nbformat": 4,
 "nbformat_minor": 2
}
