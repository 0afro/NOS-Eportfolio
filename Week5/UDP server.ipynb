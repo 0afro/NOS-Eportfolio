{
 "cells": [
  {
   "cell_type": "code",
   "execution_count": null,
   "metadata": {},
   "outputs": [
    {
     "name": "stdout",
     "output_type": "stream",
     "text": [
      "UDP Server is ready to receive messages...\n",
      "Received from ('127.0.0.1', 61625): HELLO HELLO HELLO HELLO HELLO HELLO HELLO HELLO HE...\n"
     ]
    }
   ],
   "source": [
    "import socket\n",
    "\n",
    "# Create a UDP socket\n",
    "server_socket = socket.socket(socket.AF_INET, socket.SOCK_DGRAM)\n",
    "server_socket.bind(('localhost', 65433))\n",
    "\n",
    "print(\"UDP Server is ready to receive messages...\")\n",
    "\n",
    "while True:\n",
    "    data, client_address = server_socket.recvfrom(1024)  # Receive up to 1024 bytes\n",
    "    print(f\"Received from {client_address}: {data.decode()[:50]}...\")  # Print first 50 chars\n",
    "    \n",
    "    # Echo back the data\n",
    "    server_socket.sendto(b\"ACK: \" + data, client_address)\n"
   ]
  }
 ],
 "metadata": {
  "kernelspec": {
   "display_name": "Python 3",
   "language": "python",
   "name": "python3"
  },
  "language_info": {
   "codemirror_mode": {
    "name": "ipython",
    "version": 3
   },
   "file_extension": ".py",
   "mimetype": "text/x-python",
   "name": "python",
   "nbconvert_exporter": "python",
   "pygments_lexer": "ipython3",
   "version": "3.12.6"
  }
 },
 "nbformat": 4,
 "nbformat_minor": 2
}
