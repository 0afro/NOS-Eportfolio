{
 "cells": [
  {
   "cell_type": "code",
   "execution_count": null,
   "metadata": {},
   "outputs": [
    {
     "name": "stdout",
     "output_type": "stream",
     "text": [
      "Duration:  0.000779 Server response: ACK: g\n"
     ]
    }
   ],
   "source": [
    "import socket\n",
    "import datetime\n",
    "\n",
    "client_socket = socket.socket(socket.AF_INET, socket.SOCK_STREAM)\n",
    "client_socket.connect(('localhost', 65432))\n",
    "\n",
    "message = \"HELLO\" * 100\n",
    "client_socket.sendall(message.encode())\n",
    "Time1= datetime.datetime.now()\n",
    "\n",
    "response = client_socket.recv(1024)\n",
    "Time2= datetime.datetime.now()\n",
    "\n",
    "FinalTime=(Time2-Time1).total_seconds()\n",
    "# print(\"Time taken to send and receive the message is:\",FinalTime)\n",
    "print(\"Duration: \", FinalTime, f\"Server response: {response.decode()}\")\n",
    "\n",
    "client_socket.close()\n",
    "\n"
   ]
  }
 ],
 "metadata": {
  "kernelspec": {
   "display_name": "Python 3",
   "language": "python",
   "name": "python3"
  },
  "language_info": {
   "codemirror_mode": {
    "name": "ipython",
    "version": 3
   },
   "file_extension": ".py",
   "mimetype": "text/x-python",
   "name": "python",
   "nbconvert_exporter": "python",
   "pygments_lexer": "ipython3",
   "version": "3.12.6"
  }
 },
 "nbformat": 4,
 "nbformat_minor": 2
}
