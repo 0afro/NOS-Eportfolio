{
 "cells": [
  {
   "cell_type": "code",
   "execution_count": null,
   "metadata": {},
   "outputs": [
    {
     "name": "stdout",
     "output_type": "stream",
     "text": [
      "TCP Server is listening for file transfer...\n",
      "Connected to ('127.0.0.1', 54215)\n",
      "File received and saved as 'received_file.txt'!\n",
      "Connected to ('127.0.0.1', 54218)\n",
      "File received and saved as 'received_file.txt'!\n",
      "Connected to ('127.0.0.1', 54223)\n",
      "File received and saved as 'received_file.txt'!\n"
     ]
    }
   ],
   "source": [
    "import socket\n",
    "\n",
    "# Create a TCP socket\n",
    "server_socket = socket.socket(socket.AF_INET, socket.SOCK_STREAM)\n",
    "server_socket.bind(('localhost', 65432))\n",
    "server_socket.listen(1)\n",
    "\n",
    "print(\"TCP Server is listening for file transfer...\")\n",
    "\n",
    "while True:\n",
    "    client_socket, client_address = server_socket.accept()\n",
    "    print(f\"Connected to {client_address}\")\n",
    "\n",
    "    with open('received_file.txt', 'wb') as f:\n",
    "        while True:\n",
    "            data = client_socket.recv(1024)\n",
    "            if not data:\n",
    "                break  # Stop receiving if no data left\n",
    "            f.write(data)\n",
    "\n",
    "    print(\"File received and saved as 'received_file.txt'!\")\n",
    "    client_socket.close()\n"
   ]
  }
 ],
 "metadata": {
  "kernelspec": {
   "display_name": "Python 3",
   "language": "python",
   "name": "python3"
  },
  "language_info": {
   "codemirror_mode": {
    "name": "ipython",
    "version": 3
   },
   "file_extension": ".py",
   "mimetype": "text/x-python",
   "name": "python",
   "nbconvert_exporter": "python",
   "pygments_lexer": "ipython3",
   "version": "3.12.6"
  }
 },
 "nbformat": 4,
 "nbformat_minor": 2
}
