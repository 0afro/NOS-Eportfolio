{
 "cells": [
  {
   "cell_type": "code",
   "execution_count": null,
   "metadata": {},
   "outputs": [
    {
     "name": "stdout",
     "output_type": "stream",
     "text": [
      "✅ Connected to server!\n",
      "📩 Server Response: ACK: HEYY\n",
      "🔌 Connection closed.\n"
     ]
    }
   ],
   "source": [
    "import socket\n",
    "import time\n",
    "\n",
    "# Retry connection if the server is not ready\n",
    "MAX_RETRIES = 5\n",
    "RETRY_DELAY = 2  # Wait 2 seconds before retrying\n",
    "\n",
    "client_socket = socket.socket(socket.AF_INET, socket.SOCK_STREAM)\n",
    "\n",
    "for attempt in range(MAX_RETRIES):\n",
    "    try:\n",
    "        client_socket.connect(('localhost', 65432))\n",
    "        print(\"✅ Connected to server!\")\n",
    "        break\n",
    "    except ConnectionRefusedError:\n",
    "        print(f\"⚠️ Connection refused, retrying ({attempt+1}/{MAX_RETRIES})...\")\n",
    "        time.sleep(RETRY_DELAY)\n",
    "else:\n",
    "    print(\"❌ Could not connect to the server. Make sure the server is running!\")\n",
    "    exit()\n",
    "\n",
    "message = input(\"💬 Enter your message: \")\n",
    "client_socket.sendall(message.encode())\n",
    "\n",
    "response = client_socket.recv(1024).decode()\n",
    "print(f\"📩 Server Response: {response}\")\n",
    "\n",
    "client_socket.close()\n",
    "print(\"🔌 Connection closed.\")\n"
   ]
  }
 ],
 "metadata": {
  "kernelspec": {
   "display_name": "Python 3",
   "language": "python",
   "name": "python3"
  },
  "language_info": {
   "codemirror_mode": {
    "name": "ipython",
    "version": 3
   },
   "file_extension": ".py",
   "mimetype": "text/x-python",
   "name": "python",
   "nbconvert_exporter": "python",
   "pygments_lexer": "ipython3",
   "version": "3.12.6"
  }
 },
 "nbformat": 4,
 "nbformat_minor": 2
}
